{
 "cells": [
  {
   "cell_type": "code",
   "execution_count": 2,
   "metadata": {
    "id": "C06UyBYagVX3"
   },
   "outputs": [],
   "source": [
    "import numpy as np\n",
    "import pandas as pd\n",
    "import matplotlib.pyplot as plt\n",
    "from sklearn.model_selection import train_test_split\n",
    "from sklearn.preprocessing import StandardScaler\n",
    "import tensorflow as tf\n",
    "from imblearn.over_sampling import RandomOverSampler\n",
    "from matplotlib import pyplot as plt\n",
    "from sklearn.preprocessing import LabelEncoder"
   ]
  },
  {
   "cell_type": "code",
   "execution_count": 3,
   "metadata": {
    "colab": {
     "base_uri": "https://localhost:8080/"
    },
    "id": "yRQI6kGvh2eT",
    "outputId": "126945ac-6cc9-4328-82b6-3138916b11ec"
   },
   "outputs": [
    {
     "name": "stdout",
     "output_type": "stream",
     "text": [
      "Mounted at /content/drive\n"
     ]
    }
   ],
   "source": [
    "from google.colab import drive\n",
    "drive.mount('/content/drive')\n",
    "# Load dataset\n",
    "df_2_class = pd.read_csv(\"/content/drive/My Drive/Colab Notebooks/user_fake_authentic_2class.csv\")"
   ]
  },
  {
   "cell_type": "code",
   "execution_count": 4,
   "metadata": {
    "id": "CMSthAw3ifJF"
   },
   "outputs": [],
   "source": [
    "df_4_class=pd.read_csv(\"/content/drive/My Drive/Colab Notebooks/user_fake_authentic_4class.csv\")"
   ]
  },
  {
   "cell_type": "code",
   "execution_count": 5,
   "metadata": {
    "colab": {
     "base_uri": "https://localhost:8080/",
     "height": 226
    },
    "id": "Mv9YNxALg3GR",
    "outputId": "40a724bc-eb3d-4d58-9354-0aaf27f756d9"
   },
   "outputs": [
    {
     "data": {
      "application/vnd.google.colaboratory.intrinsic+json": {
       "summary": "{\n  \"name\": \"df_2_class\",\n  \"rows\": 65326,\n  \"fields\": [\n    {\n      \"column\": \"pos\",\n      \"properties\": {\n        \"dtype\": \"number\",\n        \"std\": 723,\n        \"min\": 0,\n        \"max\": 76200,\n        \"num_unique_values\": 1110,\n        \"samples\": [\n          621,\n          262,\n          257\n        ],\n        \"semantic_type\": \"\",\n        \"description\": \"\"\n      }\n    },\n    {\n      \"column\": \"flw\",\n      \"properties\": {\n        \"dtype\": \"number\",\n        \"std\": 21708,\n        \"min\": 0,\n        \"max\": 3900000,\n        \"num_unique_values\": 1411,\n        \"samples\": [\n          102,\n          774,\n          39500\n        ],\n        \"semantic_type\": \"\",\n        \"description\": \"\"\n      }\n    },\n    {\n      \"column\": \"flg\",\n      \"properties\": {\n        \"dtype\": \"number\",\n        \"std\": 2592,\n        \"min\": 0,\n        \"max\": 8800,\n        \"num_unique_values\": 1071,\n        \"samples\": [\n          766,\n          447,\n          947\n        ],\n        \"semantic_type\": \"\",\n        \"description\": \"\"\n      }\n    },\n    {\n      \"column\": \"bl\",\n      \"properties\": {\n        \"dtype\": \"number\",\n        \"std\": 64,\n        \"min\": 0,\n        \"max\": 555,\n        \"num_unique_values\": 375,\n        \"samples\": [\n          87,\n          13,\n          62\n        ],\n        \"semantic_type\": \"\",\n        \"description\": \"\"\n      }\n    },\n    {\n      \"column\": \"pic\",\n      \"properties\": {\n        \"dtype\": \"number\",\n        \"std\": 0,\n        \"min\": 0,\n        \"max\": 1,\n        \"num_unique_values\": 2,\n        \"samples\": [\n          0,\n          1\n        ],\n        \"semantic_type\": \"\",\n        \"description\": \"\"\n      }\n    },\n    {\n      \"column\": \"lin\",\n      \"properties\": {\n        \"dtype\": \"number\",\n        \"std\": 0,\n        \"min\": 0,\n        \"max\": 1,\n        \"num_unique_values\": 2,\n        \"samples\": [\n          1,\n          0\n        ],\n        \"semantic_type\": \"\",\n        \"description\": \"\"\n      }\n    },\n    {\n      \"column\": \"cl\",\n      \"properties\": {\n        \"dtype\": \"number\",\n        \"std\": 215,\n        \"min\": -1,\n        \"max\": 3644,\n        \"num_unique_values\": 1391,\n        \"samples\": [\n          947,\n          433\n        ],\n        \"semantic_type\": \"\",\n        \"description\": \"\"\n      }\n    },\n    {\n      \"column\": \"cz\",\n      \"properties\": {\n        \"dtype\": \"number\",\n        \"std\": 0.3378905653125842,\n        \"min\": 0.0,\n        \"max\": 1.0,\n        \"num_unique_values\": 189,\n        \"samples\": [\n          0.1470588297,\n          0.4571428597\n        ],\n        \"semantic_type\": \"\",\n        \"description\": \"\"\n      }\n    },\n    {\n      \"column\": \"ni\",\n      \"properties\": {\n        \"dtype\": \"number\",\n        \"std\": 0.2529392506324366,\n        \"min\": 0.0,\n        \"max\": 1.0,\n        \"num_unique_values\": 224,\n        \"samples\": [\n          0.3330000043,\n          0.8460000157\n        ],\n        \"semantic_type\": \"\",\n        \"description\": \"\"\n      }\n    },\n    {\n      \"column\": \"erl\",\n      \"properties\": {\n        \"dtype\": \"number\",\n        \"std\": 121.0475702983781,\n        \"min\": 0.0,\n        \"max\": 26650.0,\n        \"num_unique_values\": 7454,\n        \"samples\": [\n          143.97999573,\n          5.8200001717\n        ],\n        \"semantic_type\": \"\",\n        \"description\": \"\"\n      }\n    },\n    {\n      \"column\": \"erc\",\n      \"properties\": {\n        \"dtype\": \"number\",\n        \"std\": 5.8106273188220605,\n        \"min\": 0.0,\n        \"max\": 1009.0900269,\n        \"num_unique_values\": 1319,\n        \"samples\": [\n          9.6899995804,\n          7.7199997902\n        ],\n        \"semantic_type\": \"\",\n        \"description\": \"\"\n      }\n    },\n    {\n      \"column\": \"lt\",\n      \"properties\": {\n        \"dtype\": \"number\",\n        \"std\": 0.3003623304002708,\n        \"min\": 0.0,\n        \"max\": 1.0,\n        \"num_unique_values\": 211,\n        \"samples\": [\n          0.0769999996,\n          0.8529999852\n        ],\n        \"semantic_type\": \"\",\n        \"description\": \"\"\n      }\n    },\n    {\n      \"column\": \"hc\",\n      \"properties\": {\n        \"dtype\": \"number\",\n        \"std\": 1.1569208369802249,\n        \"min\": 0.0,\n        \"max\": 30.0,\n        \"num_unique_values\": 698,\n        \"samples\": [\n          4.1669998169,\n          3.1760001183\n        ],\n        \"semantic_type\": \"\",\n        \"description\": \"\"\n      }\n    },\n    {\n      \"column\": \"pr\",\n      \"properties\": {\n        \"dtype\": \"number\",\n        \"std\": 0.22098737494901352,\n        \"min\": 0.0,\n        \"max\": 20.0,\n        \"num_unique_values\": 199,\n        \"samples\": [\n          11.0,\n          0.8889999986\n        ],\n        \"semantic_type\": \"\",\n        \"description\": \"\"\n      }\n    },\n    {\n      \"column\": \"fo\",\n      \"properties\": {\n        \"dtype\": \"number\",\n        \"std\": 0.5190577770520081,\n        \"min\": 0.0,\n        \"max\": 58.0,\n        \"num_unique_values\": 304,\n        \"samples\": [\n          11.0,\n          0.7689999938\n        ],\n        \"semantic_type\": \"\",\n        \"description\": \"\"\n      }\n    },\n    {\n      \"column\": \"cs\",\n      \"properties\": {\n        \"dtype\": \"number\",\n        \"std\": 0.3496041634828437,\n        \"min\": 0.0,\n        \"max\": 1.0,\n        \"num_unique_values\": 38482,\n        \"samples\": [\n          0.5138059855,\n          0.19912\n        ],\n        \"semantic_type\": \"\",\n        \"description\": \"\"\n      }\n    },\n    {\n      \"column\": \"pi\",\n      \"properties\": {\n        \"dtype\": \"number\",\n        \"std\": 944.9053892828431,\n        \"min\": 0.0,\n        \"max\": 26786.134766,\n        \"num_unique_values\": 55927,\n        \"samples\": [\n          1620.2001953,\n          507.62573242\n        ],\n        \"semantic_type\": \"\",\n        \"description\": \"\"\n      }\n    },\n    {\n      \"column\": \"class\",\n      \"properties\": {\n        \"dtype\": \"category\",\n        \"num_unique_values\": 2,\n        \"samples\": [\n          \"r\",\n          \"f\"\n        ],\n        \"semantic_type\": \"\",\n        \"description\": \"\"\n      }\n    }\n  ]\n}",
       "type": "dataframe",
       "variable_name": "df_2_class"
      },
      "text/html": [
       "\n",
       "  <div id=\"df-4d5b9acd-1df7-4e03-8b27-0f7956767bbf\" class=\"colab-df-container\">\n",
       "    <div>\n",
       "<style scoped>\n",
       "    .dataframe tbody tr th:only-of-type {\n",
       "        vertical-align: middle;\n",
       "    }\n",
       "\n",
       "    .dataframe tbody tr th {\n",
       "        vertical-align: top;\n",
       "    }\n",
       "\n",
       "    .dataframe thead th {\n",
       "        text-align: right;\n",
       "    }\n",
       "</style>\n",
       "<table border=\"1\" class=\"dataframe\">\n",
       "  <thead>\n",
       "    <tr style=\"text-align: right;\">\n",
       "      <th></th>\n",
       "      <th>pos</th>\n",
       "      <th>flw</th>\n",
       "      <th>flg</th>\n",
       "      <th>bl</th>\n",
       "      <th>pic</th>\n",
       "      <th>lin</th>\n",
       "      <th>cl</th>\n",
       "      <th>cz</th>\n",
       "      <th>ni</th>\n",
       "      <th>erl</th>\n",
       "      <th>erc</th>\n",
       "      <th>lt</th>\n",
       "      <th>hc</th>\n",
       "      <th>pr</th>\n",
       "      <th>fo</th>\n",
       "      <th>cs</th>\n",
       "      <th>pi</th>\n",
       "      <th>class</th>\n",
       "    </tr>\n",
       "  </thead>\n",
       "  <tbody>\n",
       "    <tr>\n",
       "      <th>0</th>\n",
       "      <td>44</td>\n",
       "      <td>48</td>\n",
       "      <td>325</td>\n",
       "      <td>33</td>\n",
       "      <td>1</td>\n",
       "      <td>0</td>\n",
       "      <td>12</td>\n",
       "      <td>0.0</td>\n",
       "      <td>0.0</td>\n",
       "      <td>0.00</td>\n",
       "      <td>0.00</td>\n",
       "      <td>0.000</td>\n",
       "      <td>0.0</td>\n",
       "      <td>0.0</td>\n",
       "      <td>0.000</td>\n",
       "      <td>0.111111</td>\n",
       "      <td>0.094985</td>\n",
       "      <td>f</td>\n",
       "    </tr>\n",
       "    <tr>\n",
       "      <th>1</th>\n",
       "      <td>10</td>\n",
       "      <td>66</td>\n",
       "      <td>321</td>\n",
       "      <td>150</td>\n",
       "      <td>1</td>\n",
       "      <td>0</td>\n",
       "      <td>213</td>\n",
       "      <td>0.0</td>\n",
       "      <td>1.0</td>\n",
       "      <td>14.39</td>\n",
       "      <td>1.97</td>\n",
       "      <td>0.000</td>\n",
       "      <td>1.5</td>\n",
       "      <td>0.0</td>\n",
       "      <td>0.000</td>\n",
       "      <td>0.206826</td>\n",
       "      <td>230.412857</td>\n",
       "      <td>f</td>\n",
       "    </tr>\n",
       "    <tr>\n",
       "      <th>2</th>\n",
       "      <td>33</td>\n",
       "      <td>970</td>\n",
       "      <td>308</td>\n",
       "      <td>101</td>\n",
       "      <td>1</td>\n",
       "      <td>1</td>\n",
       "      <td>436</td>\n",
       "      <td>0.0</td>\n",
       "      <td>1.0</td>\n",
       "      <td>10.10</td>\n",
       "      <td>0.30</td>\n",
       "      <td>0.000</td>\n",
       "      <td>2.5</td>\n",
       "      <td>0.0</td>\n",
       "      <td>0.056</td>\n",
       "      <td>0.572174</td>\n",
       "      <td>43.569939</td>\n",
       "      <td>f</td>\n",
       "    </tr>\n",
       "    <tr>\n",
       "      <th>3</th>\n",
       "      <td>70</td>\n",
       "      <td>86</td>\n",
       "      <td>360</td>\n",
       "      <td>14</td>\n",
       "      <td>1</td>\n",
       "      <td>0</td>\n",
       "      <td>0</td>\n",
       "      <td>1.0</td>\n",
       "      <td>0.0</td>\n",
       "      <td>0.78</td>\n",
       "      <td>0.06</td>\n",
       "      <td>0.000</td>\n",
       "      <td>0.0</td>\n",
       "      <td>0.0</td>\n",
       "      <td>0.000</td>\n",
       "      <td>1.000000</td>\n",
       "      <td>5.859799</td>\n",
       "      <td>f</td>\n",
       "    </tr>\n",
       "    <tr>\n",
       "      <th>4</th>\n",
       "      <td>3</td>\n",
       "      <td>21</td>\n",
       "      <td>285</td>\n",
       "      <td>73</td>\n",
       "      <td>1</td>\n",
       "      <td>0</td>\n",
       "      <td>93</td>\n",
       "      <td>0.0</td>\n",
       "      <td>0.0</td>\n",
       "      <td>14.29</td>\n",
       "      <td>0.00</td>\n",
       "      <td>0.667</td>\n",
       "      <td>0.0</td>\n",
       "      <td>0.0</td>\n",
       "      <td>0.000</td>\n",
       "      <td>0.300494</td>\n",
       "      <td>0.126019</td>\n",
       "      <td>f</td>\n",
       "    </tr>\n",
       "  </tbody>\n",
       "</table>\n",
       "</div>\n",
       "    <div class=\"colab-df-buttons\">\n",
       "\n",
       "  <div class=\"colab-df-container\">\n",
       "    <button class=\"colab-df-convert\" onclick=\"convertToInteractive('df-4d5b9acd-1df7-4e03-8b27-0f7956767bbf')\"\n",
       "            title=\"Convert this dataframe to an interactive table.\"\n",
       "            style=\"display:none;\">\n",
       "\n",
       "  <svg xmlns=\"http://www.w3.org/2000/svg\" height=\"24px\" viewBox=\"0 -960 960 960\">\n",
       "    <path d=\"M120-120v-720h720v720H120Zm60-500h600v-160H180v160Zm220 220h160v-160H400v160Zm0 220h160v-160H400v160ZM180-400h160v-160H180v160Zm440 0h160v-160H620v160ZM180-180h160v-160H180v160Zm440 0h160v-160H620v160Z\"/>\n",
       "  </svg>\n",
       "    </button>\n",
       "\n",
       "  <style>\n",
       "    .colab-df-container {\n",
       "      display:flex;\n",
       "      gap: 12px;\n",
       "    }\n",
       "\n",
       "    .colab-df-convert {\n",
       "      background-color: #E8F0FE;\n",
       "      border: none;\n",
       "      border-radius: 50%;\n",
       "      cursor: pointer;\n",
       "      display: none;\n",
       "      fill: #1967D2;\n",
       "      height: 32px;\n",
       "      padding: 0 0 0 0;\n",
       "      width: 32px;\n",
       "    }\n",
       "\n",
       "    .colab-df-convert:hover {\n",
       "      background-color: #E2EBFA;\n",
       "      box-shadow: 0px 1px 2px rgba(60, 64, 67, 0.3), 0px 1px 3px 1px rgba(60, 64, 67, 0.15);\n",
       "      fill: #174EA6;\n",
       "    }\n",
       "\n",
       "    .colab-df-buttons div {\n",
       "      margin-bottom: 4px;\n",
       "    }\n",
       "\n",
       "    [theme=dark] .colab-df-convert {\n",
       "      background-color: #3B4455;\n",
       "      fill: #D2E3FC;\n",
       "    }\n",
       "\n",
       "    [theme=dark] .colab-df-convert:hover {\n",
       "      background-color: #434B5C;\n",
       "      box-shadow: 0px 1px 3px 1px rgba(0, 0, 0, 0.15);\n",
       "      filter: drop-shadow(0px 1px 2px rgba(0, 0, 0, 0.3));\n",
       "      fill: #FFFFFF;\n",
       "    }\n",
       "  </style>\n",
       "\n",
       "    <script>\n",
       "      const buttonEl =\n",
       "        document.querySelector('#df-4d5b9acd-1df7-4e03-8b27-0f7956767bbf button.colab-df-convert');\n",
       "      buttonEl.style.display =\n",
       "        google.colab.kernel.accessAllowed ? 'block' : 'none';\n",
       "\n",
       "      async function convertToInteractive(key) {\n",
       "        const element = document.querySelector('#df-4d5b9acd-1df7-4e03-8b27-0f7956767bbf');\n",
       "        const dataTable =\n",
       "          await google.colab.kernel.invokeFunction('convertToInteractive',\n",
       "                                                    [key], {});\n",
       "        if (!dataTable) return;\n",
       "\n",
       "        const docLinkHtml = 'Like what you see? Visit the ' +\n",
       "          '<a target=\"_blank\" href=https://colab.research.google.com/notebooks/data_table.ipynb>data table notebook</a>'\n",
       "          + ' to learn more about interactive tables.';\n",
       "        element.innerHTML = '';\n",
       "        dataTable['output_type'] = 'display_data';\n",
       "        await google.colab.output.renderOutput(dataTable, element);\n",
       "        const docLink = document.createElement('div');\n",
       "        docLink.innerHTML = docLinkHtml;\n",
       "        element.appendChild(docLink);\n",
       "      }\n",
       "    </script>\n",
       "  </div>\n",
       "\n",
       "\n",
       "<div id=\"df-146e9af3-4c32-41d0-86cc-d08ded6c6a53\">\n",
       "  <button class=\"colab-df-quickchart\" onclick=\"quickchart('df-146e9af3-4c32-41d0-86cc-d08ded6c6a53')\"\n",
       "            title=\"Suggest charts\"\n",
       "            style=\"display:none;\">\n",
       "\n",
       "<svg xmlns=\"http://www.w3.org/2000/svg\" height=\"24px\"viewBox=\"0 0 24 24\"\n",
       "     width=\"24px\">\n",
       "    <g>\n",
       "        <path d=\"M19 3H5c-1.1 0-2 .9-2 2v14c0 1.1.9 2 2 2h14c1.1 0 2-.9 2-2V5c0-1.1-.9-2-2-2zM9 17H7v-7h2v7zm4 0h-2V7h2v10zm4 0h-2v-4h2v4z\"/>\n",
       "    </g>\n",
       "</svg>\n",
       "  </button>\n",
       "\n",
       "<style>\n",
       "  .colab-df-quickchart {\n",
       "      --bg-color: #E8F0FE;\n",
       "      --fill-color: #1967D2;\n",
       "      --hover-bg-color: #E2EBFA;\n",
       "      --hover-fill-color: #174EA6;\n",
       "      --disabled-fill-color: #AAA;\n",
       "      --disabled-bg-color: #DDD;\n",
       "  }\n",
       "\n",
       "  [theme=dark] .colab-df-quickchart {\n",
       "      --bg-color: #3B4455;\n",
       "      --fill-color: #D2E3FC;\n",
       "      --hover-bg-color: #434B5C;\n",
       "      --hover-fill-color: #FFFFFF;\n",
       "      --disabled-bg-color: #3B4455;\n",
       "      --disabled-fill-color: #666;\n",
       "  }\n",
       "\n",
       "  .colab-df-quickchart {\n",
       "    background-color: var(--bg-color);\n",
       "    border: none;\n",
       "    border-radius: 50%;\n",
       "    cursor: pointer;\n",
       "    display: none;\n",
       "    fill: var(--fill-color);\n",
       "    height: 32px;\n",
       "    padding: 0;\n",
       "    width: 32px;\n",
       "  }\n",
       "\n",
       "  .colab-df-quickchart:hover {\n",
       "    background-color: var(--hover-bg-color);\n",
       "    box-shadow: 0 1px 2px rgba(60, 64, 67, 0.3), 0 1px 3px 1px rgba(60, 64, 67, 0.15);\n",
       "    fill: var(--button-hover-fill-color);\n",
       "  }\n",
       "\n",
       "  .colab-df-quickchart-complete:disabled,\n",
       "  .colab-df-quickchart-complete:disabled:hover {\n",
       "    background-color: var(--disabled-bg-color);\n",
       "    fill: var(--disabled-fill-color);\n",
       "    box-shadow: none;\n",
       "  }\n",
       "\n",
       "  .colab-df-spinner {\n",
       "    border: 2px solid var(--fill-color);\n",
       "    border-color: transparent;\n",
       "    border-bottom-color: var(--fill-color);\n",
       "    animation:\n",
       "      spin 1s steps(1) infinite;\n",
       "  }\n",
       "\n",
       "  @keyframes spin {\n",
       "    0% {\n",
       "      border-color: transparent;\n",
       "      border-bottom-color: var(--fill-color);\n",
       "      border-left-color: var(--fill-color);\n",
       "    }\n",
       "    20% {\n",
       "      border-color: transparent;\n",
       "      border-left-color: var(--fill-color);\n",
       "      border-top-color: var(--fill-color);\n",
       "    }\n",
       "    30% {\n",
       "      border-color: transparent;\n",
       "      border-left-color: var(--fill-color);\n",
       "      border-top-color: var(--fill-color);\n",
       "      border-right-color: var(--fill-color);\n",
       "    }\n",
       "    40% {\n",
       "      border-color: transparent;\n",
       "      border-right-color: var(--fill-color);\n",
       "      border-top-color: var(--fill-color);\n",
       "    }\n",
       "    60% {\n",
       "      border-color: transparent;\n",
       "      border-right-color: var(--fill-color);\n",
       "    }\n",
       "    80% {\n",
       "      border-color: transparent;\n",
       "      border-right-color: var(--fill-color);\n",
       "      border-bottom-color: var(--fill-color);\n",
       "    }\n",
       "    90% {\n",
       "      border-color: transparent;\n",
       "      border-bottom-color: var(--fill-color);\n",
       "    }\n",
       "  }\n",
       "</style>\n",
       "\n",
       "  <script>\n",
       "    async function quickchart(key) {\n",
       "      const quickchartButtonEl =\n",
       "        document.querySelector('#' + key + ' button');\n",
       "      quickchartButtonEl.disabled = true;  // To prevent multiple clicks.\n",
       "      quickchartButtonEl.classList.add('colab-df-spinner');\n",
       "      try {\n",
       "        const charts = await google.colab.kernel.invokeFunction(\n",
       "            'suggestCharts', [key], {});\n",
       "      } catch (error) {\n",
       "        console.error('Error during call to suggestCharts:', error);\n",
       "      }\n",
       "      quickchartButtonEl.classList.remove('colab-df-spinner');\n",
       "      quickchartButtonEl.classList.add('colab-df-quickchart-complete');\n",
       "    }\n",
       "    (() => {\n",
       "      let quickchartButtonEl =\n",
       "        document.querySelector('#df-146e9af3-4c32-41d0-86cc-d08ded6c6a53 button');\n",
       "      quickchartButtonEl.style.display =\n",
       "        google.colab.kernel.accessAllowed ? 'block' : 'none';\n",
       "    })();\n",
       "  </script>\n",
       "</div>\n",
       "\n",
       "    </div>\n",
       "  </div>\n"
      ],
      "text/plain": [
       "   pos  flw  flg   bl  pic  lin   cl   cz   ni    erl   erc     lt   hc   pr  \\\n",
       "0   44   48  325   33    1    0   12  0.0  0.0   0.00  0.00  0.000  0.0  0.0   \n",
       "1   10   66  321  150    1    0  213  0.0  1.0  14.39  1.97  0.000  1.5  0.0   \n",
       "2   33  970  308  101    1    1  436  0.0  1.0  10.10  0.30  0.000  2.5  0.0   \n",
       "3   70   86  360   14    1    0    0  1.0  0.0   0.78  0.06  0.000  0.0  0.0   \n",
       "4    3   21  285   73    1    0   93  0.0  0.0  14.29  0.00  0.667  0.0  0.0   \n",
       "\n",
       "      fo        cs          pi class  \n",
       "0  0.000  0.111111    0.094985     f  \n",
       "1  0.000  0.206826  230.412857     f  \n",
       "2  0.056  0.572174   43.569939     f  \n",
       "3  0.000  1.000000    5.859799     f  \n",
       "4  0.000  0.300494    0.126019     f  "
      ]
     },
     "execution_count": 5,
     "metadata": {},
     "output_type": "execute_result"
    }
   ],
   "source": [
    "df_2_class.head()"
   ]
  },
  {
   "cell_type": "code",
   "execution_count": 6,
   "metadata": {
    "colab": {
     "base_uri": "https://localhost:8080/",
     "height": 226
    },
    "id": "uSgVIdtQjKJV",
    "outputId": "abebf5d8-e237-4dfc-8437-03d9b1f1b38e"
   },
   "outputs": [
    {
     "data": {
      "application/vnd.google.colaboratory.intrinsic+json": {
       "summary": "{\n  \"name\": \"df_4_class\",\n  \"rows\": 43307,\n  \"fields\": [\n    {\n      \"column\": \"pos\",\n      \"properties\": {\n        \"dtype\": \"number\",\n        \"std\": 701,\n        \"min\": 0,\n        \"max\": 76200,\n        \"num_unique_values\": 1073,\n        \"samples\": [\n          842,\n          527,\n          902\n        ],\n        \"semantic_type\": \"\",\n        \"description\": \"\"\n      }\n    },\n    {\n      \"column\": \"flw\",\n      \"properties\": {\n        \"dtype\": \"number\",\n        \"std\": 12503,\n        \"min\": 0,\n        \"max\": 1900000,\n        \"num_unique_values\": 1253,\n        \"samples\": [\n          14,\n          58300,\n          968\n        ],\n        \"semantic_type\": \"\",\n        \"description\": \"\"\n      }\n    },\n    {\n      \"column\": \"flg\",\n      \"properties\": {\n        \"dtype\": \"number\",\n        \"std\": 2806,\n        \"min\": 0,\n        \"max\": 7800,\n        \"num_unique_values\": 1069,\n        \"samples\": [\n          663,\n          349,\n          95\n        ],\n        \"semantic_type\": \"\",\n        \"description\": \"\"\n      }\n    },\n    {\n      \"column\": \"bl\",\n      \"properties\": {\n        \"dtype\": \"number\",\n        \"std\": 60,\n        \"min\": 0,\n        \"max\": 555,\n        \"num_unique_values\": 342,\n        \"samples\": [\n          249,\n          183,\n          150\n        ],\n        \"semantic_type\": \"\",\n        \"description\": \"\"\n      }\n    },\n    {\n      \"column\": \"pic\",\n      \"properties\": {\n        \"dtype\": \"number\",\n        \"std\": 0,\n        \"min\": 0,\n        \"max\": 1,\n        \"num_unique_values\": 2,\n        \"samples\": [\n          0,\n          1\n        ],\n        \"semantic_type\": \"\",\n        \"description\": \"\"\n      }\n    },\n    {\n      \"column\": \"lin\",\n      \"properties\": {\n        \"dtype\": \"number\",\n        \"std\": 0,\n        \"min\": 0,\n        \"max\": 1,\n        \"num_unique_values\": 2,\n        \"samples\": [\n          1,\n          0\n        ],\n        \"semantic_type\": \"\",\n        \"description\": \"\"\n      }\n    },\n    {\n      \"column\": \"cl\",\n      \"properties\": {\n        \"dtype\": \"number\",\n        \"std\": 212,\n        \"min\": -1,\n        \"max\": 3274,\n        \"num_unique_values\": 1267,\n        \"samples\": [\n          1360,\n          1472\n        ],\n        \"semantic_type\": \"\",\n        \"description\": \"\"\n      }\n    },\n    {\n      \"column\": \"cz\",\n      \"properties\": {\n        \"dtype\": \"number\",\n        \"std\": 0.35673604634869144,\n        \"min\": 0.0,\n        \"max\": 1.0,\n        \"num_unique_values\": 269,\n        \"samples\": [\n          0.071429,\n          0.48\n        ],\n        \"semantic_type\": \"\",\n        \"description\": \"\"\n      }\n    },\n    {\n      \"column\": \"ni\",\n      \"properties\": {\n        \"dtype\": \"number\",\n        \"std\": 0.25891548887899735,\n        \"min\": 0.0,\n        \"max\": 1.0,\n        \"num_unique_values\": 305,\n        \"samples\": [\n          0.0670000017,\n          0.6110000014\n        ],\n        \"semantic_type\": \"\",\n        \"description\": \"\"\n      }\n    },\n    {\n      \"column\": \"erl\",\n      \"properties\": {\n        \"dtype\": \"number\",\n        \"std\": 146.74224446626377,\n        \"min\": 0.0,\n        \"max\": 26650.0,\n        \"num_unique_values\": 9556,\n        \"samples\": [\n          30.09,\n          23.930000305\n        ],\n        \"semantic_type\": \"\",\n        \"description\": \"\"\n      }\n    },\n    {\n      \"column\": \"erc\",\n      \"properties\": {\n        \"dtype\": \"number\",\n        \"std\": 6.802048554352201,\n        \"min\": 0.0,\n        \"max\": 1009.0900269,\n        \"num_unique_values\": 1778,\n        \"samples\": [\n          6.6199998856,\n          7.44\n        ],\n        \"semantic_type\": \"\",\n        \"description\": \"\"\n      }\n    },\n    {\n      \"column\": \"lt\",\n      \"properties\": {\n        \"dtype\": \"number\",\n        \"std\": 0.28042791466598244,\n        \"min\": 0.0,\n        \"max\": 1.0,\n        \"num_unique_values\": 284,\n        \"samples\": [\n          0.727,\n          0.7689999938\n        ],\n        \"semantic_type\": \"\",\n        \"description\": \"\"\n      }\n    },\n    {\n      \"column\": \"hc\",\n      \"properties\": {\n        \"dtype\": \"number\",\n        \"std\": 1.2010034630287343,\n        \"min\": 0.0,\n        \"max\": 30.0,\n        \"num_unique_values\": 862,\n        \"samples\": [\n          1.2630000114,\n          2.4000000954\n        ],\n        \"semantic_type\": \"\",\n        \"description\": \"\"\n      }\n    },\n    {\n      \"column\": \"pr\",\n      \"properties\": {\n        \"dtype\": \"number\",\n        \"std\": 0.2669130327376928,\n        \"min\": 0.0,\n        \"max\": 20.0,\n        \"num_unique_values\": 226,\n        \"samples\": [\n          0.063,\n          1.1180000305\n        ],\n        \"semantic_type\": \"\",\n        \"description\": \"\"\n      }\n    },\n    {\n      \"column\": \"fo\",\n      \"properties\": {\n        \"dtype\": \"number\",\n        \"std\": 0.6244482415866307,\n        \"min\": 0.0,\n        \"max\": 58.0,\n        \"num_unique_values\": 346,\n        \"samples\": [\n          0.4289999902,\n          4.8330001831\n        ],\n        \"semantic_type\": \"\",\n        \"description\": \"\"\n      }\n    },\n    {\n      \"column\": \"cs\",\n      \"properties\": {\n        \"dtype\": \"number\",\n        \"std\": 0.37686026711752696,\n        \"min\": 0.0,\n        \"max\": 1.0,\n        \"num_unique_values\": 24120,\n        \"samples\": [\n          0.066114,\n          0.297834\n        ],\n        \"semantic_type\": \"\",\n        \"description\": \"\"\n      }\n    },\n    {\n      \"column\": \"pi\",\n      \"properties\": {\n        \"dtype\": \"number\",\n        \"std\": 875.6260432757362,\n        \"min\": 0.0,\n        \"max\": 26786.13477,\n        \"num_unique_values\": 35349,\n        \"samples\": [\n          636.33947754,\n          13.891388893\n        ],\n        \"semantic_type\": \"\",\n        \"description\": \"\"\n      }\n    },\n    {\n      \"column\": \"class\",\n      \"properties\": {\n        \"dtype\": \"category\",\n        \"num_unique_values\": 4,\n        \"samples\": [\n          \"s\",\n          \"a\"\n        ],\n        \"semantic_type\": \"\",\n        \"description\": \"\"\n      }\n    }\n  ]\n}",
       "type": "dataframe",
       "variable_name": "df_4_class"
      },
      "text/html": [
       "\n",
       "  <div id=\"df-09843681-0886-42d4-a7f6-99af11b16c13\" class=\"colab-df-container\">\n",
       "    <div>\n",
       "<style scoped>\n",
       "    .dataframe tbody tr th:only-of-type {\n",
       "        vertical-align: middle;\n",
       "    }\n",
       "\n",
       "    .dataframe tbody tr th {\n",
       "        vertical-align: top;\n",
       "    }\n",
       "\n",
       "    .dataframe thead th {\n",
       "        text-align: right;\n",
       "    }\n",
       "</style>\n",
       "<table border=\"1\" class=\"dataframe\">\n",
       "  <thead>\n",
       "    <tr style=\"text-align: right;\">\n",
       "      <th></th>\n",
       "      <th>pos</th>\n",
       "      <th>flw</th>\n",
       "      <th>flg</th>\n",
       "      <th>bl</th>\n",
       "      <th>pic</th>\n",
       "      <th>lin</th>\n",
       "      <th>cl</th>\n",
       "      <th>cz</th>\n",
       "      <th>ni</th>\n",
       "      <th>erl</th>\n",
       "      <th>erc</th>\n",
       "      <th>lt</th>\n",
       "      <th>hc</th>\n",
       "      <th>pr</th>\n",
       "      <th>fo</th>\n",
       "      <th>cs</th>\n",
       "      <th>pi</th>\n",
       "      <th>class</th>\n",
       "    </tr>\n",
       "  </thead>\n",
       "  <tbody>\n",
       "    <tr>\n",
       "      <th>0</th>\n",
       "      <td>69</td>\n",
       "      <td>541</td>\n",
       "      <td>440</td>\n",
       "      <td>293</td>\n",
       "      <td>1</td>\n",
       "      <td>0</td>\n",
       "      <td>223</td>\n",
       "      <td>0.000000</td>\n",
       "      <td>0.111</td>\n",
       "      <td>10.120000</td>\n",
       "      <td>0.50</td>\n",
       "      <td>0.944</td>\n",
       "      <td>0.556</td>\n",
       "      <td>0.0</td>\n",
       "      <td>0.0</td>\n",
       "      <td>0.107055</td>\n",
       "      <td>334.596802</td>\n",
       "      <td>r</td>\n",
       "    </tr>\n",
       "    <tr>\n",
       "      <th>1</th>\n",
       "      <td>9</td>\n",
       "      <td>783</td>\n",
       "      <td>803</td>\n",
       "      <td>76</td>\n",
       "      <td>1</td>\n",
       "      <td>0</td>\n",
       "      <td>101</td>\n",
       "      <td>0.000000</td>\n",
       "      <td>0.000</td>\n",
       "      <td>19.820000</td>\n",
       "      <td>1.99</td>\n",
       "      <td>0.889</td>\n",
       "      <td>0.222</td>\n",
       "      <td>0.0</td>\n",
       "      <td>0.0</td>\n",
       "      <td>0.007400</td>\n",
       "      <td>2137.979248</td>\n",
       "      <td>r</td>\n",
       "    </tr>\n",
       "    <tr>\n",
       "      <th>2</th>\n",
       "      <td>390</td>\n",
       "      <td>1200</td>\n",
       "      <td>925</td>\n",
       "      <td>103</td>\n",
       "      <td>1</td>\n",
       "      <td>0</td>\n",
       "      <td>723</td>\n",
       "      <td>0.000000</td>\n",
       "      <td>0.000</td>\n",
       "      <td>11.540000</td>\n",
       "      <td>0.76</td>\n",
       "      <td>1.000</td>\n",
       "      <td>2.389</td>\n",
       "      <td>0.0</td>\n",
       "      <td>0.0</td>\n",
       "      <td>0.221954</td>\n",
       "      <td>96.244957</td>\n",
       "      <td>r</td>\n",
       "    </tr>\n",
       "    <tr>\n",
       "      <th>3</th>\n",
       "      <td>138</td>\n",
       "      <td>1100</td>\n",
       "      <td>1000</td>\n",
       "      <td>40</td>\n",
       "      <td>1</td>\n",
       "      <td>0</td>\n",
       "      <td>24</td>\n",
       "      <td>0.166667</td>\n",
       "      <td>0.167</td>\n",
       "      <td>20.440001</td>\n",
       "      <td>1.61</td>\n",
       "      <td>0.833</td>\n",
       "      <td>0.111</td>\n",
       "      <td>0.0</td>\n",
       "      <td>0.0</td>\n",
       "      <td>0.025055</td>\n",
       "      <td>226.622437</td>\n",
       "      <td>r</td>\n",
       "    </tr>\n",
       "    <tr>\n",
       "      <th>4</th>\n",
       "      <td>1</td>\n",
       "      <td>228</td>\n",
       "      <td>487</td>\n",
       "      <td>84</td>\n",
       "      <td>1</td>\n",
       "      <td>0</td>\n",
       "      <td>30</td>\n",
       "      <td>0.000000</td>\n",
       "      <td>0.000</td>\n",
       "      <td>9.210000</td>\n",
       "      <td>1.75</td>\n",
       "      <td>1.000</td>\n",
       "      <td>0.000</td>\n",
       "      <td>0.0</td>\n",
       "      <td>0.0</td>\n",
       "      <td>0.000000</td>\n",
       "      <td>0.000000</td>\n",
       "      <td>r</td>\n",
       "    </tr>\n",
       "  </tbody>\n",
       "</table>\n",
       "</div>\n",
       "    <div class=\"colab-df-buttons\">\n",
       "\n",
       "  <div class=\"colab-df-container\">\n",
       "    <button class=\"colab-df-convert\" onclick=\"convertToInteractive('df-09843681-0886-42d4-a7f6-99af11b16c13')\"\n",
       "            title=\"Convert this dataframe to an interactive table.\"\n",
       "            style=\"display:none;\">\n",
       "\n",
       "  <svg xmlns=\"http://www.w3.org/2000/svg\" height=\"24px\" viewBox=\"0 -960 960 960\">\n",
       "    <path d=\"M120-120v-720h720v720H120Zm60-500h600v-160H180v160Zm220 220h160v-160H400v160Zm0 220h160v-160H400v160ZM180-400h160v-160H180v160Zm440 0h160v-160H620v160ZM180-180h160v-160H180v160Zm440 0h160v-160H620v160Z\"/>\n",
       "  </svg>\n",
       "    </button>\n",
       "\n",
       "  <style>\n",
       "    .colab-df-container {\n",
       "      display:flex;\n",
       "      gap: 12px;\n",
       "    }\n",
       "\n",
       "    .colab-df-convert {\n",
       "      background-color: #E8F0FE;\n",
       "      border: none;\n",
       "      border-radius: 50%;\n",
       "      cursor: pointer;\n",
       "      display: none;\n",
       "      fill: #1967D2;\n",
       "      height: 32px;\n",
       "      padding: 0 0 0 0;\n",
       "      width: 32px;\n",
       "    }\n",
       "\n",
       "    .colab-df-convert:hover {\n",
       "      background-color: #E2EBFA;\n",
       "      box-shadow: 0px 1px 2px rgba(60, 64, 67, 0.3), 0px 1px 3px 1px rgba(60, 64, 67, 0.15);\n",
       "      fill: #174EA6;\n",
       "    }\n",
       "\n",
       "    .colab-df-buttons div {\n",
       "      margin-bottom: 4px;\n",
       "    }\n",
       "\n",
       "    [theme=dark] .colab-df-convert {\n",
       "      background-color: #3B4455;\n",
       "      fill: #D2E3FC;\n",
       "    }\n",
       "\n",
       "    [theme=dark] .colab-df-convert:hover {\n",
       "      background-color: #434B5C;\n",
       "      box-shadow: 0px 1px 3px 1px rgba(0, 0, 0, 0.15);\n",
       "      filter: drop-shadow(0px 1px 2px rgba(0, 0, 0, 0.3));\n",
       "      fill: #FFFFFF;\n",
       "    }\n",
       "  </style>\n",
       "\n",
       "    <script>\n",
       "      const buttonEl =\n",
       "        document.querySelector('#df-09843681-0886-42d4-a7f6-99af11b16c13 button.colab-df-convert');\n",
       "      buttonEl.style.display =\n",
       "        google.colab.kernel.accessAllowed ? 'block' : 'none';\n",
       "\n",
       "      async function convertToInteractive(key) {\n",
       "        const element = document.querySelector('#df-09843681-0886-42d4-a7f6-99af11b16c13');\n",
       "        const dataTable =\n",
       "          await google.colab.kernel.invokeFunction('convertToInteractive',\n",
       "                                                    [key], {});\n",
       "        if (!dataTable) return;\n",
       "\n",
       "        const docLinkHtml = 'Like what you see? Visit the ' +\n",
       "          '<a target=\"_blank\" href=https://colab.research.google.com/notebooks/data_table.ipynb>data table notebook</a>'\n",
       "          + ' to learn more about interactive tables.';\n",
       "        element.innerHTML = '';\n",
       "        dataTable['output_type'] = 'display_data';\n",
       "        await google.colab.output.renderOutput(dataTable, element);\n",
       "        const docLink = document.createElement('div');\n",
       "        docLink.innerHTML = docLinkHtml;\n",
       "        element.appendChild(docLink);\n",
       "      }\n",
       "    </script>\n",
       "  </div>\n",
       "\n",
       "\n",
       "<div id=\"df-a9e668d4-9cc1-4a5e-866d-517bb5926535\">\n",
       "  <button class=\"colab-df-quickchart\" onclick=\"quickchart('df-a9e668d4-9cc1-4a5e-866d-517bb5926535')\"\n",
       "            title=\"Suggest charts\"\n",
       "            style=\"display:none;\">\n",
       "\n",
       "<svg xmlns=\"http://www.w3.org/2000/svg\" height=\"24px\"viewBox=\"0 0 24 24\"\n",
       "     width=\"24px\">\n",
       "    <g>\n",
       "        <path d=\"M19 3H5c-1.1 0-2 .9-2 2v14c0 1.1.9 2 2 2h14c1.1 0 2-.9 2-2V5c0-1.1-.9-2-2-2zM9 17H7v-7h2v7zm4 0h-2V7h2v10zm4 0h-2v-4h2v4z\"/>\n",
       "    </g>\n",
       "</svg>\n",
       "  </button>\n",
       "\n",
       "<style>\n",
       "  .colab-df-quickchart {\n",
       "      --bg-color: #E8F0FE;\n",
       "      --fill-color: #1967D2;\n",
       "      --hover-bg-color: #E2EBFA;\n",
       "      --hover-fill-color: #174EA6;\n",
       "      --disabled-fill-color: #AAA;\n",
       "      --disabled-bg-color: #DDD;\n",
       "  }\n",
       "\n",
       "  [theme=dark] .colab-df-quickchart {\n",
       "      --bg-color: #3B4455;\n",
       "      --fill-color: #D2E3FC;\n",
       "      --hover-bg-color: #434B5C;\n",
       "      --hover-fill-color: #FFFFFF;\n",
       "      --disabled-bg-color: #3B4455;\n",
       "      --disabled-fill-color: #666;\n",
       "  }\n",
       "\n",
       "  .colab-df-quickchart {\n",
       "    background-color: var(--bg-color);\n",
       "    border: none;\n",
       "    border-radius: 50%;\n",
       "    cursor: pointer;\n",
       "    display: none;\n",
       "    fill: var(--fill-color);\n",
       "    height: 32px;\n",
       "    padding: 0;\n",
       "    width: 32px;\n",
       "  }\n",
       "\n",
       "  .colab-df-quickchart:hover {\n",
       "    background-color: var(--hover-bg-color);\n",
       "    box-shadow: 0 1px 2px rgba(60, 64, 67, 0.3), 0 1px 3px 1px rgba(60, 64, 67, 0.15);\n",
       "    fill: var(--button-hover-fill-color);\n",
       "  }\n",
       "\n",
       "  .colab-df-quickchart-complete:disabled,\n",
       "  .colab-df-quickchart-complete:disabled:hover {\n",
       "    background-color: var(--disabled-bg-color);\n",
       "    fill: var(--disabled-fill-color);\n",
       "    box-shadow: none;\n",
       "  }\n",
       "\n",
       "  .colab-df-spinner {\n",
       "    border: 2px solid var(--fill-color);\n",
       "    border-color: transparent;\n",
       "    border-bottom-color: var(--fill-color);\n",
       "    animation:\n",
       "      spin 1s steps(1) infinite;\n",
       "  }\n",
       "\n",
       "  @keyframes spin {\n",
       "    0% {\n",
       "      border-color: transparent;\n",
       "      border-bottom-color: var(--fill-color);\n",
       "      border-left-color: var(--fill-color);\n",
       "    }\n",
       "    20% {\n",
       "      border-color: transparent;\n",
       "      border-left-color: var(--fill-color);\n",
       "      border-top-color: var(--fill-color);\n",
       "    }\n",
       "    30% {\n",
       "      border-color: transparent;\n",
       "      border-left-color: var(--fill-color);\n",
       "      border-top-color: var(--fill-color);\n",
       "      border-right-color: var(--fill-color);\n",
       "    }\n",
       "    40% {\n",
       "      border-color: transparent;\n",
       "      border-right-color: var(--fill-color);\n",
       "      border-top-color: var(--fill-color);\n",
       "    }\n",
       "    60% {\n",
       "      border-color: transparent;\n",
       "      border-right-color: var(--fill-color);\n",
       "    }\n",
       "    80% {\n",
       "      border-color: transparent;\n",
       "      border-right-color: var(--fill-color);\n",
       "      border-bottom-color: var(--fill-color);\n",
       "    }\n",
       "    90% {\n",
       "      border-color: transparent;\n",
       "      border-bottom-color: var(--fill-color);\n",
       "    }\n",
       "  }\n",
       "</style>\n",
       "\n",
       "  <script>\n",
       "    async function quickchart(key) {\n",
       "      const quickchartButtonEl =\n",
       "        document.querySelector('#' + key + ' button');\n",
       "      quickchartButtonEl.disabled = true;  // To prevent multiple clicks.\n",
       "      quickchartButtonEl.classList.add('colab-df-spinner');\n",
       "      try {\n",
       "        const charts = await google.colab.kernel.invokeFunction(\n",
       "            'suggestCharts', [key], {});\n",
       "      } catch (error) {\n",
       "        console.error('Error during call to suggestCharts:', error);\n",
       "      }\n",
       "      quickchartButtonEl.classList.remove('colab-df-spinner');\n",
       "      quickchartButtonEl.classList.add('colab-df-quickchart-complete');\n",
       "    }\n",
       "    (() => {\n",
       "      let quickchartButtonEl =\n",
       "        document.querySelector('#df-a9e668d4-9cc1-4a5e-866d-517bb5926535 button');\n",
       "      quickchartButtonEl.style.display =\n",
       "        google.colab.kernel.accessAllowed ? 'block' : 'none';\n",
       "    })();\n",
       "  </script>\n",
       "</div>\n",
       "\n",
       "    </div>\n",
       "  </div>\n"
      ],
      "text/plain": [
       "   pos   flw   flg   bl  pic  lin   cl        cz     ni        erl   erc  \\\n",
       "0   69   541   440  293    1    0  223  0.000000  0.111  10.120000  0.50   \n",
       "1    9   783   803   76    1    0  101  0.000000  0.000  19.820000  1.99   \n",
       "2  390  1200   925  103    1    0  723  0.000000  0.000  11.540000  0.76   \n",
       "3  138  1100  1000   40    1    0   24  0.166667  0.167  20.440001  1.61   \n",
       "4    1   228   487   84    1    0   30  0.000000  0.000   9.210000  1.75   \n",
       "\n",
       "      lt     hc   pr   fo        cs           pi class  \n",
       "0  0.944  0.556  0.0  0.0  0.107055   334.596802     r  \n",
       "1  0.889  0.222  0.0  0.0  0.007400  2137.979248     r  \n",
       "2  1.000  2.389  0.0  0.0  0.221954    96.244957     r  \n",
       "3  0.833  0.111  0.0  0.0  0.025055   226.622437     r  \n",
       "4  1.000  0.000  0.0  0.0  0.000000     0.000000     r  "
      ]
     },
     "execution_count": 6,
     "metadata": {},
     "output_type": "execute_result"
    }
   ],
   "source": [
    "df_4_class.head()"
   ]
  },
  {
   "cell_type": "code",
   "execution_count": 7,
   "metadata": {
    "colab": {
     "base_uri": "https://localhost:8080/"
    },
    "id": "-ljTefqOk241",
    "outputId": "9b453308-f301-4d80-bbba-9df058c5a125"
   },
   "outputs": [
    {
     "data": {
      "text/plain": [
       "((65326, 18), (43307, 18))"
      ]
     },
     "execution_count": 7,
     "metadata": {},
     "output_type": "execute_result"
    }
   ],
   "source": [
    "df_2_class.shape,df_4_class.shape"
   ]
  },
  {
   "cell_type": "code",
   "execution_count": 8,
   "metadata": {
    "colab": {
     "base_uri": "https://localhost:8080/"
    },
    "id": "fvGo3INlknZo",
    "outputId": "5e4e31d2-5ccf-4c55-f7bc-59af579a4557"
   },
   "outputs": [
    {
     "data": {
      "text/plain": [
       "(array(['f', 'r'], dtype=object), array(['r', 's', 'i', 'a'], dtype=object))"
      ]
     },
     "execution_count": 8,
     "metadata": {},
     "output_type": "execute_result"
    }
   ],
   "source": [
    "df_2_class[\"class\"].unique(),df_4_class[\"class\"].unique()"
   ]
  },
  {
   "cell_type": "markdown",
   "metadata": {
    "id": "dScRVYYVBWZu"
   },
   "source": [
    "### Change Categorical values in the target to Numerical"
   ]
  },
  {
   "cell_type": "code",
   "execution_count": 11,
   "metadata": {
    "id": "Jn0mqgIcoLXs"
   },
   "outputs": [],
   "source": [
    "encoder=LabelEncoder()\n",
    "df_2_class[\"class\"]=encoder.fit_transform(df_2_class[\"class\"])\n",
    "df_4_class[\"class\"]=encoder.fit_transform(df_4_class[\"class\"])"
   ]
  },
  {
   "cell_type": "code",
   "execution_count": 12,
   "metadata": {
    "colab": {
     "base_uri": "https://localhost:8080/"
    },
    "id": "SlO00S2zomPY",
    "outputId": "ebb722a3-04a1-41a4-aa48-bcd145b003ab"
   },
   "outputs": [
    {
     "data": {
      "text/plain": [
       "(array([0, 1]), array([2, 3, 1, 0]))"
      ]
     },
     "execution_count": 12,
     "metadata": {},
     "output_type": "execute_result"
    }
   ],
   "source": [
    "df_2_class[\"class\"].unique(), df_4_class[\"class\"].unique()"
   ]
  },
  {
   "cell_type": "code",
   "execution_count": 13,
   "metadata": {
    "id": "HMsCGN87md50"
   },
   "outputs": [],
   "source": [
    "X1=df_2_class[df_2_class.columns[:-1]].values\n",
    "y1=df_2_class[df_2_class.columns[-1]].values"
   ]
  },
  {
   "cell_type": "code",
   "execution_count": 14,
   "metadata": {
    "id": "M5XGNeYKnI5T"
   },
   "outputs": [],
   "source": [
    "X2=df_4_class[df_4_class.columns[:-1]].values\n",
    "y2=df_4_class[df_4_class.columns[-1]].values"
   ]
  },
  {
   "cell_type": "code",
   "execution_count": 15,
   "metadata": {
    "colab": {
     "base_uri": "https://localhost:8080/"
    },
    "id": "G7Se17xonOGW",
    "outputId": "a500504a-f20c-4de3-bb58-22eca8643475"
   },
   "outputs": [
    {
     "data": {
      "text/plain": [
       "((65326, 17), (65326,), (43307, 17), (43307,))"
      ]
     },
     "execution_count": 15,
     "metadata": {},
     "output_type": "execute_result"
    }
   ],
   "source": [
    "X1.shape, y1.shape,X2.shape, y2.shape"
   ]
  },
  {
   "cell_type": "markdown",
   "metadata": {
    "id": "AxrQ7l26BmBt"
   },
   "source": [
    "### Noirmalize the values"
   ]
  },
  {
   "cell_type": "code",
   "execution_count": 16,
   "metadata": {
    "id": "Hv-tSY47nhfE"
   },
   "outputs": [],
   "source": [
    "scaler = StandardScaler()\n",
    "X1 = scaler.fit_transform(X1)\n",
    "data = np.hstack((X1, np.reshape(y1, (-1, 1))))\n",
    "transformed_df_2_class = pd.DataFrame(data, columns=df_2_class.columns)"
   ]
  },
  {
   "cell_type": "code",
   "execution_count": 17,
   "metadata": {
    "id": "3g4YkT7To9kr"
   },
   "outputs": [],
   "source": [
    "scaler_2 = StandardScaler()\n",
    "X2 = scaler_2.fit_transform(X2)\n",
    "data_2 = np.hstack((X2, np.reshape(y2, (-1, 1))))\n",
    "transformed_df_4_class = pd.DataFrame(data_2, columns=df_4_class.columns)"
   ]
  },
  {
   "cell_type": "markdown",
   "metadata": {
    "id": "TuMcaGfoBtqN"
   },
   "source": [
    "### Ensure the data is balanced"
   ]
  },
  {
   "cell_type": "code",
   "execution_count": 18,
   "metadata": {
    "id": "S1sLjm39pTkE"
   },
   "outputs": [],
   "source": [
    "over = RandomOverSampler()\n",
    "X1, y1 = over.fit_resample(X1, y1)\n",
    "data = np.hstack((X1, np.reshape(y1, (-1, 1))))\n",
    "transformed_df_2_class = pd.DataFrame(data, columns=df_2_class.columns)"
   ]
  },
  {
   "cell_type": "code",
   "execution_count": 19,
   "metadata": {
    "id": "bovKWP6Lpqw5"
   },
   "outputs": [],
   "source": [
    "over_2 = RandomOverSampler()\n",
    "X2, y2 = over.fit_resample(X2, y2)\n",
    "data_2 = np.hstack((X2, np.reshape(y2, (-1, 1))))\n",
    "transformed_df_4_class = pd.DataFrame(data_2, columns=df_4_class.columns)"
   ]
  },
  {
   "cell_type": "code",
   "execution_count": 39,
   "metadata": {
    "colab": {
     "base_uri": "https://localhost:8080/"
    },
    "id": "QqLUp3Jt-eK2",
    "outputId": "f8f3367f-5205-4519-b797-95ebb4dd7add"
   },
   "outputs": [
    {
     "data": {
      "text/plain": [
       "array([2., 3., 1., 0.])"
      ]
     },
     "execution_count": 39,
     "metadata": {},
     "output_type": "execute_result"
    }
   ],
   "source": [
    "transformed_df_4_class[\"class\"].unique()"
   ]
  },
  {
   "cell_type": "code",
   "execution_count": 20,
   "metadata": {
    "colab": {
     "base_uri": "https://localhost:8080/"
    },
    "id": "lzrtSNhtp9j8",
    "outputId": "52ccad49-508e-496c-ce5d-cce52697e814"
   },
   "outputs": [
    {
     "data": {
      "text/plain": [
       "(32866, 32866)"
      ]
     },
     "execution_count": 20,
     "metadata": {},
     "output_type": "execute_result"
    }
   ],
   "source": [
    "len(transformed_df_2_class[transformed_df_2_class[\"class\"]==1]), len(transformed_df_2_class[transformed_df_2_class[\"class\"]==0])"
   ]
  },
  {
   "cell_type": "code",
   "execution_count": 21,
   "metadata": {
    "colab": {
     "base_uri": "https://localhost:8080/"
    },
    "id": "FXN8brFcqUoX",
    "outputId": "23fdde4d-fd28-4061-f520-9b0014f3294a"
   },
   "outputs": [
    {
     "data": {
      "text/plain": [
       "(12054, 12054, 12054, 12054)"
      ]
     },
     "execution_count": 21,
     "metadata": {},
     "output_type": "execute_result"
    }
   ],
   "source": [
    "len(transformed_df_4_class[transformed_df_4_class[\"class\"]==0]), len(transformed_df_4_class[transformed_df_4_class[\"class\"]==1]),len(transformed_df_4_class[transformed_df_4_class[\"class\"]==2]), len(transformed_df_4_class[transformed_df_4_class[\"class\"]==3])"
   ]
  },
  {
   "cell_type": "markdown",
   "metadata": {
    "id": "dscpIwb3q2tf"
   },
   "source": [
    "### 2 CLASS MODEL"
   ]
  },
  {
   "cell_type": "markdown",
   "metadata": {
    "id": "DG7FA1FirVBM"
   },
   "source": [
    "#### SPLIT DATA"
   ]
  },
  {
   "cell_type": "code",
   "execution_count": 22,
   "metadata": {
    "id": "ivqH2TCLrXPD"
   },
   "outputs": [],
   "source": [
    "X_train, X_temp, y_train, y_temp = train_test_split(X1, y1, test_size=0.4, random_state=0)\n",
    "X_valid, X_test, y_valid, y_test = train_test_split(X_temp, y_temp, test_size=0.5, random_state=0)"
   ]
  },
  {
   "cell_type": "markdown",
   "metadata": {
    "id": "W0eKpvMXB7c0"
   },
   "source": [
    "#### MODEL 2 CLASS"
   ]
  },
  {
   "cell_type": "code",
   "execution_count": 23,
   "metadata": {
    "id": "HJta7qhMrh8s"
   },
   "outputs": [],
   "source": [
    "model_2_class = tf.keras.Sequential([\n",
    "                             tf.keras.layers.Dense(16, activation='relu'),\n",
    "                             tf.keras.layers.Dense(16, activation='relu'),\n",
    "                             tf.keras.layers.Dense(1, activation=\"sigmoid\")\n",
    "])"
   ]
  },
  {
   "cell_type": "code",
   "execution_count": 24,
   "metadata": {
    "id": "Fqlg0Fy6rsZH"
   },
   "outputs": [],
   "source": [
    "model_2_class.compile(optimizer=tf.keras.optimizers.Adam(learning_rate=0.001),\n",
    "              loss=tf.keras.losses.BinaryCrossentropy(),\n",
    "              metrics=['accuracy'])"
   ]
  },
  {
   "cell_type": "code",
   "execution_count": 32,
   "metadata": {
    "colab": {
     "base_uri": "https://localhost:8080/"
    },
    "id": "R4LFQX92r0Wy",
    "outputId": "70e2969d-78fa-4d39-b01f-80872137f27d"
   },
   "outputs": [
    {
     "name": "stdout",
     "output_type": "stream",
     "text": [
      "Epoch 1/10\n",
      "2465/2465 [==============================] - 13s 5ms/step - loss: 0.2824 - accuracy: 0.8750 - val_loss: 0.2898 - val_accuracy: 0.8771\n",
      "Epoch 2/10\n",
      "2465/2465 [==============================] - 10s 4ms/step - loss: 0.2806 - accuracy: 0.8760 - val_loss: 0.2851 - val_accuracy: 0.8760\n",
      "Epoch 3/10\n",
      "2465/2465 [==============================] - 12s 5ms/step - loss: 0.2789 - accuracy: 0.8763 - val_loss: 0.2829 - val_accuracy: 0.8771\n",
      "Epoch 4/10\n",
      "2465/2465 [==============================] - 12s 5ms/step - loss: 0.2767 - accuracy: 0.8776 - val_loss: 0.2806 - val_accuracy: 0.8776\n",
      "Epoch 5/10\n",
      "2465/2465 [==============================] - 10s 4ms/step - loss: 0.2754 - accuracy: 0.8773 - val_loss: 0.2808 - val_accuracy: 0.8776\n",
      "Epoch 6/10\n",
      "2465/2465 [==============================] - 10s 4ms/step - loss: 0.2734 - accuracy: 0.8789 - val_loss: 0.2828 - val_accuracy: 0.8763\n",
      "Epoch 7/10\n",
      "2465/2465 [==============================] - 11s 4ms/step - loss: 0.2719 - accuracy: 0.8795 - val_loss: 0.2773 - val_accuracy: 0.8805\n",
      "Epoch 8/10\n",
      "2465/2465 [==============================] - 11s 4ms/step - loss: 0.2708 - accuracy: 0.8784 - val_loss: 0.2761 - val_accuracy: 0.8795\n",
      "Epoch 9/10\n",
      "2465/2465 [==============================] - 12s 5ms/step - loss: 0.2687 - accuracy: 0.8791 - val_loss: 0.2795 - val_accuracy: 0.8796\n",
      "Epoch 10/10\n",
      "2465/2465 [==============================] - 12s 5ms/step - loss: 0.2663 - accuracy: 0.8815 - val_loss: 0.2705 - val_accuracy: 0.8809\n"
     ]
    },
    {
     "data": {
      "text/plain": [
       "<keras.src.callbacks.History at 0x7f5841daefb0>"
      ]
     },
     "execution_count": 32,
     "metadata": {},
     "output_type": "execute_result"
    }
   ],
   "source": [
    "model_2_class.fit(X_train, y_train, batch_size=16, epochs=10, validation_data=(X_valid, y_valid))"
   ]
  },
  {
   "cell_type": "code",
   "execution_count": 33,
   "metadata": {
    "colab": {
     "base_uri": "https://localhost:8080/"
    },
    "id": "L5IkidO8r9vy",
    "outputId": "b89727bf-0bc9-43f4-96c5-18caccdf7b9f"
   },
   "outputs": [
    {
     "name": "stdout",
     "output_type": "stream",
     "text": [
      "411/411 [==============================] - 1s 2ms/step - loss: 0.2695 - accuracy: 0.8800\n"
     ]
    },
    {
     "data": {
      "text/plain": [
       "[0.2695465385913849, 0.8800486922264099]"
      ]
     },
     "execution_count": 33,
     "metadata": {},
     "output_type": "execute_result"
    }
   ],
   "source": [
    "model_2_class.evaluate(X_test, y_test)"
   ]
  },
  {
   "cell_type": "markdown",
   "metadata": {
    "id": "7EkRbyn0tEyt"
   },
   "source": [
    "### 4 CLASS MODEL"
   ]
  },
  {
   "cell_type": "markdown",
   "metadata": {
    "id": "_dwpOw02tJMg"
   },
   "source": [
    "#### SPLIT DATA"
   ]
  },
  {
   "cell_type": "code",
   "execution_count": 34,
   "metadata": {
    "id": "BurOKYFotH7Y"
   },
   "outputs": [],
   "source": [
    "X2_train, X2_temp, y2_train, y2_temp = train_test_split(X2, y2, test_size=0.4, random_state=0)\n",
    "X2_valid, X2_test, y2_valid, y2_test = train_test_split(X2_temp, y2_temp, test_size=0.5, random_state=0)"
   ]
  },
  {
   "cell_type": "code",
   "execution_count": 43,
   "metadata": {
    "colab": {
     "base_uri": "https://localhost:8080/"
    },
    "id": "juEJOc7R7gl_",
    "outputId": "5391af09-0956-480b-dee2-7f02833c8fe9"
   },
   "outputs": [
    {
     "data": {
      "text/plain": [
       "array([2, 1, 3, ..., 1, 1, 2])"
      ]
     },
     "execution_count": 43,
     "metadata": {},
     "output_type": "execute_result"
    }
   ],
   "source": [
    "y2_train"
   ]
  },
  {
   "cell_type": "markdown",
   "metadata": {
    "id": "u1-hUjGuCN71"
   },
   "source": [
    "#### CHANGE SHAPE OF THE TARGET DATA TO MATCH THAT OF THE OUPUT LAYER"
   ]
  },
  {
   "cell_type": "code",
   "execution_count": 47,
   "metadata": {
    "id": "Rrc45rJzAYFF"
   },
   "outputs": [],
   "source": [
    "y2_train = tf.one_hot(y2_train, depth=4)\n",
    "y2_valid = tf.one_hot(y2_valid, depth=4)\n",
    "y2_test = tf.one_hot(y2_test, depth=4)"
   ]
  },
  {
   "cell_type": "markdown",
   "metadata": {
    "id": "T5TSMvo-CGt2"
   },
   "source": [
    "### MODEL 4 CLASS"
   ]
  },
  {
   "cell_type": "code",
   "execution_count": 48,
   "metadata": {
    "id": "WYv8PZ2MtZ3h"
   },
   "outputs": [],
   "source": [
    "model_4_class = tf.keras.Sequential([\n",
    "                             tf.keras.layers.Dense(10, activation='relu'),\n",
    "                             tf.keras.layers.Dense(4, activation=\"softmax\")\n",
    "])"
   ]
  },
  {
   "cell_type": "code",
   "execution_count": 49,
   "metadata": {
    "id": "3gF_vIB4tpzD"
   },
   "outputs": [],
   "source": [
    "model_4_class.compile(optimizer=tf.keras.optimizers.Adam(learning_rate=0.001),\n",
    "              loss=tf.keras.losses.CategoricalCrossentropy(),\n",
    "              metrics=['accuracy'])"
   ]
  },
  {
   "cell_type": "code",
   "execution_count": 50,
   "metadata": {
    "colab": {
     "base_uri": "https://localhost:8080/"
    },
    "id": "yNbs3g6Jv3jZ",
    "outputId": "85b9ed67-2e52-42c3-d3db-b9d7079eb56a"
   },
   "outputs": [
    {
     "name": "stdout",
     "output_type": "stream",
     "text": [
      "Epoch 1/10\n",
      "1809/1809 [==============================] - 9s 4ms/step - loss: 1.0271 - accuracy: 0.5470 - val_loss: 0.8681 - val_accuracy: 0.6436\n",
      "Epoch 2/10\n",
      "1809/1809 [==============================] - 6s 4ms/step - loss: 0.8240 - accuracy: 0.6544 - val_loss: 0.7838 - val_accuracy: 0.6829\n",
      "Epoch 3/10\n",
      "1809/1809 [==============================] - 7s 4ms/step - loss: 0.7623 - accuracy: 0.6938 - val_loss: 0.7316 - val_accuracy: 0.7150\n",
      "Epoch 4/10\n",
      "1809/1809 [==============================] - 7s 4ms/step - loss: 0.7190 - accuracy: 0.7178 - val_loss: 0.6902 - val_accuracy: 0.7364\n",
      "Epoch 5/10\n",
      "1809/1809 [==============================] - 10s 5ms/step - loss: 0.6808 - accuracy: 0.7350 - val_loss: 0.6528 - val_accuracy: 0.7520\n",
      "Epoch 6/10\n",
      "1809/1809 [==============================] - 6s 3ms/step - loss: 0.6488 - accuracy: 0.7467 - val_loss: 0.6230 - val_accuracy: 0.7602\n",
      "Epoch 7/10\n",
      "1809/1809 [==============================] - 7s 4ms/step - loss: 0.6225 - accuracy: 0.7577 - val_loss: 0.6025 - val_accuracy: 0.7662\n",
      "Epoch 8/10\n",
      "1809/1809 [==============================] - 6s 3ms/step - loss: 0.6019 - accuracy: 0.7631 - val_loss: 0.5860 - val_accuracy: 0.7691\n",
      "Epoch 9/10\n",
      "1809/1809 [==============================] - 7s 4ms/step - loss: 0.5861 - accuracy: 0.7688 - val_loss: 0.5715 - val_accuracy: 0.7749\n",
      "Epoch 10/10\n",
      "1809/1809 [==============================] - 6s 4ms/step - loss: 0.5743 - accuracy: 0.7732 - val_loss: 0.5623 - val_accuracy: 0.7767\n"
     ]
    },
    {
     "data": {
      "text/plain": [
       "<keras.src.callbacks.History at 0x7f5841ca3310>"
      ]
     },
     "execution_count": 50,
     "metadata": {},
     "output_type": "execute_result"
    }
   ],
   "source": [
    "model_4_class.fit(X2_train, y2_train, batch_size=16, epochs=10, validation_data=(X2_valid, y2_valid))"
   ]
  },
  {
   "cell_type": "code",
   "execution_count": 52,
   "metadata": {
    "colab": {
     "base_uri": "https://localhost:8080/"
    },
    "id": "hNODTuLfwEXM",
    "outputId": "b9ea74d5-699f-40bc-9f54-c529a0d861b9"
   },
   "outputs": [
    {
     "name": "stdout",
     "output_type": "stream",
     "text": [
      "302/302 [==============================] - 1s 3ms/step - loss: 0.5836 - accuracy: 0.7693\n"
     ]
    },
    {
     "data": {
      "text/plain": [
       "[0.583609938621521, 0.7692866325378418]"
      ]
     },
     "execution_count": 52,
     "metadata": {},
     "output_type": "execute_result"
    }
   ],
   "source": [
    "model_4_class.evaluate(X2_test,y2_test)"
   ]
  },
  {
   "cell_type": "code",
   "execution_count": null,
   "metadata": {
    "id": "XfSNU6FgBHtk"
   },
   "outputs": [],
   "source": []
  }
 ],
 "metadata": {
  "accelerator": "GPU",
  "colab": {
   "gpuType": "T4",
   "provenance": []
  },
  "kernelspec": {
   "display_name": "Python 3",
   "language": "python",
   "name": "python3"
  },
  "language_info": {
   "codemirror_mode": {
    "name": "ipython",
    "version": 3
   },
   "file_extension": ".py",
   "mimetype": "text/x-python",
   "name": "python",
   "nbconvert_exporter": "python",
   "pygments_lexer": "ipython3",
   "version": "3.7.9"
  }
 },
 "nbformat": 4,
 "nbformat_minor": 1
}
